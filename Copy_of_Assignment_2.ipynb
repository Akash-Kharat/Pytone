{
  "nbformat": 4,
  "nbformat_minor": 0,
  "metadata": {
    "colab": {
      "name": "Copy of Assignment 2.ipynb",
      "provenance": [],
      "collapsed_sections": [],
      "include_colab_link": true
    },
    "kernelspec": {
      "name": "python3",
      "display_name": "Python 3"
    }
  },
  "cells": [
    {
      "cell_type": "markdown",
      "metadata": {
        "id": "view-in-github",
        "colab_type": "text"
      },
      "source": [
        "<a href=\"https://colab.research.google.com/github/Akash-Kharat/Pytone/blob/master/Copy_of_Assignment_2.ipynb\" target=\"_parent\"><img src=\"https://colab.research.google.com/assets/colab-badge.svg\" alt=\"Open In Colab\"/></a>"
      ]
    },
    {
      "cell_type": "markdown",
      "metadata": {
        "id": "AUezCsjy9RxB",
        "colab_type": "text"
      },
      "source": [
        "\n",
        "##Assignment 2\n",
        "1. Which of the following cannot be the variable name: 'True','data','and','at', 'as','to','break', 'what','class','23stara','kbpsata\n",
        "2. Swapping of two variables values x to y and y to x.\n",
        "2.\tAssign a = 1234, what happens if you try to get the second digit of a via a[1]?. Why it happen. Use the proper variable definition and get the second digit.\n",
        "3.\tPrint the following using print()\n",
        "           Sr. No.           Name            Class\n",
        "           01             Mr. Ayush           SY\n",
        "           02             Mr. Anil            SY\n",
        "4.\tUse the appropriate way to make the string, 'YesYesYesYesYes', and try it. How about 'MaybeMaybeMaybeYesYesYesYesYes'?\n",
        "5.\tPresent the any five String method functions with example\n",
        "\n"
      ]
    },
    {
      "cell_type": "code",
      "metadata": {
        "id": "AWX-agVRLb7t",
        "colab_type": "code",
        "colab": {}
      },
      "source": [
        ""
      ],
      "execution_count": null,
      "outputs": []
    }
  ]
}