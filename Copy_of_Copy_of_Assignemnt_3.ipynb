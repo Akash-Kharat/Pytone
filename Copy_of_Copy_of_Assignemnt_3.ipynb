{
  "nbformat": 4,
  "nbformat_minor": 0,
  "metadata": {
    "colab": {
      "name": "Copy of Copy of Assignemnt 3.ipynb",
      "provenance": [],
      "collapsed_sections": [],
      "include_colab_link": true
    },
    "kernelspec": {
      "name": "python3",
      "display_name": "Python 3"
    }
  },
  "cells": [
    {
      "cell_type": "markdown",
      "metadata": {
        "id": "view-in-github",
        "colab_type": "text"
      },
      "source": [
        "<a href=\"https://colab.research.google.com/github/Akash-Kharat/Pytone/blob/master/Copy_of_Copy_of_Assignemnt_3.ipynb\" target=\"_parent\"><img src=\"https://colab.research.google.com/assets/colab-badge.svg\" alt=\"Open In Colab\"/></a>"
      ]
    },
    {
      "cell_type": "markdown",
      "metadata": {
        "id": "koRUc0QaTelB",
        "colab_type": "text"
      },
      "source": [
        ""
      ]
    },
    {
      "cell_type": "markdown",
      "metadata": {
        "id": "aY3o3kSTTaoR",
        "colab_type": "text"
      },
      "source": [
        "#Assignment 3\n",
        "1. Assign the value to the variables of different data types and display the results with its data type.\n",
        "2. Assign the integer value to the variable and convert it to floating point and complex, also assign the floating point value to the variable and convert it into integer and complex.\n",
        "3. Let x= 18 and y = 6  and perform the bitwise operations\n",
        "4. How to display the file/folder path - D:\\Information\\data\\program\n",
        "5. Consider the list  a=[2,3,4,7]  and do the following:- i) Display ['hi',2,3,4,7] ii) Repeat the list thrice \n",
        "6. Consider the list x=[12,5,15,9,10,4] and obtain length, minimum element,maximum element, sum of the list, also sort the list in ascending order."
      ]
    },
    {
      "cell_type": "markdown",
      "metadata": {
        "id": "iN-lX3e1TCzX",
        "colab_type": "text"
      },
      "source": [
        "1. Assign the value to the variables of different data types and display the results with its data type."
      ]
    },
    {
      "cell_type": "code",
      "metadata": {
        "id": "STsEVtLRzLUc",
        "colab_type": "code",
        "colab": {
          "base_uri": "https://localhost:8080/",
          "height": 119
        },
        "outputId": "9fe84c6d-bd4f-405b-ac8e-e059c738a924"
      },
      "source": [
        "a=5\n",
        "b=10.9\n",
        "c={1,2,3}\n",
        "d=\"Akash\"\n",
        "e=[2,\"bb\",6.3]\n",
        "f=10+5j\n",
        "print(a, type(a))\n",
        "print(b, type(b))\n",
        "print(c, type(c))\n",
        "print(d, type(d))\n",
        "print(e, type(e))\n",
        "print(f, type(f))"
      ],
      "execution_count": null,
      "outputs": [
        {
          "output_type": "stream",
          "text": [
            "5 <class 'int'>\n",
            "10.9 <class 'float'>\n",
            "{1, 2, 3} <class 'set'>\n",
            "Akash <class 'str'>\n",
            "[2, 'bb', 6.3] <class 'list'>\n",
            "(10+5j) <class 'complex'>\n"
          ],
          "name": "stdout"
        }
      ]
    },
    {
      "cell_type": "markdown",
      "metadata": {
        "id": "BYBHjo5V3ICc",
        "colab_type": "text"
      },
      "source": [
        "2. Assign the integer value to the variable and convert it to floating point and complex, also assign the floating point value to the variable and convert it into integer and complex."
      ]
    },
    {
      "cell_type": "code",
      "metadata": {
        "id": "ZSaToTLS3R_V",
        "colab_type": "code",
        "colab": {
          "base_uri": "https://localhost:8080/",
          "height": 85
        },
        "outputId": "b4194f11-422a-478a-96a2-996484e79ba9"
      },
      "source": [
        "x=11\n",
        "print(float (x))\n",
        "print(complex (x))\n",
        "y=21.9\n",
        "print(int (y))\n",
        "print(complex (y))"
      ],
      "execution_count": null,
      "outputs": [
        {
          "output_type": "stream",
          "text": [
            "11.0\n",
            "(11+0j)\n",
            "21\n",
            "(21.9+0j)\n"
          ],
          "name": "stdout"
        }
      ]
    },
    {
      "cell_type": "markdown",
      "metadata": {
        "id": "iULtCB794MlZ",
        "colab_type": "text"
      },
      "source": [
        "3. Let x= 18 and y = 6 and perform the bitwise operations"
      ]
    },
    {
      "cell_type": "code",
      "metadata": {
        "id": "alGRoNav4RsS",
        "colab_type": "code",
        "colab": {
          "base_uri": "https://localhost:8080/",
          "height": 51
        },
        "outputId": "737351d5-7d6f-4fbd-8fb9-4ed441bc70f7"
      },
      "source": [
        "x=18\n",
        "y=6\n",
        "print(\"ANDing\", (x & y), \"ORing\", (x^y),\"NOT x\" , ~x,\"NOT y\", ~y, \"XORing\", (x|y))\n",
        "print(\"Right shift x is \", x>>2 ,\"left shift y is \", y<<2)\n"
      ],
      "execution_count": null,
      "outputs": [
        {
          "output_type": "stream",
          "text": [
            "ANDing 2 ORing 20 NOT x -19 NOT y -7 XORing 22\n",
            "Right shift x is  4 left shift y is  24\n"
          ],
          "name": "stdout"
        }
      ]
    },
    {
      "cell_type": "markdown",
      "metadata": {
        "id": "JWK27iNG9ALL",
        "colab_type": "text"
      },
      "source": [
        "4. How to display the file/folder path - D:\\Information\\data\\program"
      ]
    },
    {
      "cell_type": "code",
      "metadata": {
        "id": "kSgdttuX9Gfy",
        "colab_type": "code",
        "colab": {
          "base_uri": "https://localhost:8080/",
          "height": 34
        },
        "outputId": "6e86f57e-8729-4e8e-e24b-7506f135ce3d"
      },
      "source": [
        "print(\"D:\\\\Information\\\\data\\\\program\")"
      ],
      "execution_count": null,
      "outputs": [
        {
          "output_type": "stream",
          "text": [
            "D:\\Information\\data\\program\n"
          ],
          "name": "stdout"
        }
      ]
    },
    {
      "cell_type": "markdown",
      "metadata": {
        "id": "btxZ8cNb9T0y",
        "colab_type": "text"
      },
      "source": [
        "5. Consider the list a=[2,3,4,7] and do the following:- i) Display ['hi',2,3,4,7] ii) Repeat the list thrice"
      ]
    },
    {
      "cell_type": "code",
      "metadata": {
        "id": "vpztwpyQ9UVP",
        "colab_type": "code",
        "colab": {
          "base_uri": "https://localhost:8080/",
          "height": 51
        },
        "outputId": "8d7a191d-0e3d-4f68-9db0-72cadd1349b7"
      },
      "source": [
        "a=[2,3,4,7]\n",
        "a.insert(0,\"hi\")\n",
        "print(a)\n",
        "print(a*3)"
      ],
      "execution_count": null,
      "outputs": [
        {
          "output_type": "stream",
          "text": [
            "['hi', 2, 3, 4, 7]\n",
            "['hi', 2, 3, 4, 7, 'hi', 2, 3, 4, 7, 'hi', 2, 3, 4, 7]\n"
          ],
          "name": "stdout"
        }
      ]
    },
    {
      "cell_type": "markdown",
      "metadata": {
        "id": "tDjmMVKj-Z2t",
        "colab_type": "text"
      },
      "source": [
        "6. Consider the list x=[12,5,15,9,10,4] and obtain length, minimum element,maximum element, sum of the list, also sort the list in ascending order."
      ]
    },
    {
      "cell_type": "code",
      "metadata": {
        "id": "g-osV74W-ahy",
        "colab_type": "code",
        "colab": {
          "base_uri": "https://localhost:8080/",
          "height": 102
        },
        "outputId": "d7613170-ae45-4869-9f8c-be993615a057"
      },
      "source": [
        "x=[12,5,15,9,10,4]\n",
        "print(\"length\",len(x))\n",
        "print(\"minimum\",min(x))\n",
        "print(\"maximum\",max(x))\n",
        "print(\"sum\",sum(x))\n",
        "print(\"sorted list\", sorted(x))\n"
      ],
      "execution_count": null,
      "outputs": [
        {
          "output_type": "stream",
          "text": [
            "length 6\n",
            "minimum 4\n",
            "maximum 15\n",
            "sum 55\n",
            "sorted list [4, 5, 9, 10, 12, 15]\n"
          ],
          "name": "stdout"
        }
      ]
    }
  ]
}